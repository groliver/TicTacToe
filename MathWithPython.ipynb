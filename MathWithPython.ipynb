{
 "cells": [
  {
   "cell_type": "code",
   "execution_count": null,
   "metadata": {
    "collapsed": true
   },
   "outputs": [],
   "source": [
    "from matplotlib import pyplot as plt\n",
    "from matplotlib import animation\n",
    "import math\n",
    "\n",
    "g=9.8\n",
    "\n",
    "def getIntervals(u, theta):\n",
    "    t_flight=2*u*math.sin(theta)/g\n",
    "    intervals=[]\n",
    "    start = 0\n",
    "    interval = 0.005\n",
    "    while start < t_flight:\n",
    "        intervals.append(start)\n",
    "        start=start + interval\n",
    "    return intervals\n",
    "\n",
    "def updatePosition(i, circle, intervals, u ,theta):\n",
    "    t=intervals[i]\n",
    "    x = u*math.cos(theta)*t\n",
    "    y=u*math.sin(theta)*t-0.5*g*t*t\n",
    "    circle.center = x, y\n",
    "    return circle\n",
    "\n",
    "def createAnimation(u, theta):\n",
    "    \n",
    "    intervals=getIntervals(u, theta)\n",
    "    xmin=0\n",
    "    xmax=u*math.cos(theta)*intervals[-1]\n",
    "    ymin=0\n",
    "    tmax = u*math.sin(theta)/g\n",
    "    y=u*math.sin(theta)*t_max-0.5*g*t_max**2\n",
    "    \n",
    "\n",
    "    \n",
    "    \n",
    "    \n",
    "    \n",
    "    \n",
    "    \n",
    "    \n",
    "    \n",
    "    \n"
   ]
  }
 ],
 "metadata": {
  "kernelspec": {
   "display_name": "Python 3",
   "language": "python",
   "name": "python3"
  },
  "language_info": {
   "codemirror_mode": {
    "name": "ipython",
    "version": 3
   },
   "file_extension": ".py",
   "mimetype": "text/x-python",
   "name": "python",
   "nbconvert_exporter": "python",
   "pygments_lexer": "ipython3",
   "version": "3.6.3"
  }
 },
 "nbformat": 4,
 "nbformat_minor": 2
}
